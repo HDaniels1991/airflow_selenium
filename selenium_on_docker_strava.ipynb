{
 "cells": [
  {
   "cell_type": "markdown",
   "metadata": {},
   "source": [
    "# Selenium On Docker\n",
    "This notebook does the following:\n",
    "1. Spin up an exernal Selenium Docker container on the host.\n",
    "2. Configures the remote Selenium Webdriver.\n",
    "3. Sends commands to the Selenium Webdriver:\n",
    "    We will be downloading Tour de France GPX routes from Strava.\n",
    "4. Remove the container."
   ]
  },
  {
   "cell_type": "markdown",
   "metadata": {},
   "source": [
    "## Imports"
   ]
  },
  {
   "cell_type": "code",
   "execution_count": 14,
   "metadata": {},
   "outputs": [],
   "source": [
    "import docker\n",
    "import os\n",
    "import time\n",
    "from selenium import webdriver\n",
    "from selenium.webdriver.common.desired_capabilities import DesiredCapabilities\n",
    "from selenium.webdriver.chrome.options import Options"
   ]
  },
  {
   "cell_type": "markdown",
   "metadata": {},
   "source": [
    "## Start Selenium container"
   ]
  },
  {
   "cell_type": "code",
   "execution_count": 15,
   "metadata": {},
   "outputs": [],
   "source": [
    "cwd = os.getcwd()\n",
    "local_downloads = '{}/downloads'.format(cwd)\n",
    "sel_downloads = '/home/seluser/downloads'\n",
    "client = docker.from_env()\n",
    "container = client.containers.run('selenium/standalone-chrome', \\\n",
    "        volumes=['{}:{}'.format(local_downloads, sel_downloads),\n",
    "                 '/dev/shm:/dev/shm'], \\\n",
    "        ports={'4444/tcp':4444},\n",
    "        network='container_bridge',\n",
    "        detach=True)\n",
    "cli = docker.APIClient()"
   ]
  },
  {
   "cell_type": "markdown",
   "metadata": {},
   "source": [
    "## Configure webdriver"
   ]
  },
  {
   "cell_type": "code",
   "execution_count": 16,
   "metadata": {},
   "outputs": [
    {
     "name": "stdout",
     "output_type": "stream",
     "text": [
      "remote not ready, sleeping for ten seconds.\n",
      "remote ready\n"
     ]
    }
   ],
   "source": [
    "options = Options()\n",
    "options.add_argument(\"--headless\")\n",
    "options.add_argument(\"--window-size=1920x1080\")\n",
    "chrome_driver = '{}:4444/wd/hub'.format('http://127.0.0.1') # This is only required for local development\n",
    "\n",
    "# wait for remote, unless timeout.\n",
    "while True:\n",
    "    try:\n",
    "        driver = webdriver.Remote(\n",
    "            command_executor=chrome_driver,\n",
    "            desired_capabilities=DesiredCapabilities.CHROME, options=options)\n",
    "        print('remote ready')\n",
    "        break\n",
    "    except:\n",
    "        print('remote not ready, sleeping for ten seconds.')\n",
    "        time.sleep(10)\n",
    "        \n",
    "# Enable downloads in headless chrome.\n",
    "driver.command_executor._commands[\"send_command\"] = (\"POST\", '/session/$sessionId/chromium/send_command')\n",
    "params = {'cmd': 'Page.setDownloadBehavior', 'params': {'behavior': 'allow', 'downloadPath': sel_downloads}}\n",
    "command_result = driver.execute(\"send_command\", params)"
   ]
  },
  {
   "cell_type": "markdown",
   "metadata": {},
   "source": [
    "## Download Tour de France GPX files\n",
    "The configured webdriver will be used to download the GPX files of the 2019 Tour de France from Strava."
   ]
  },
  {
   "cell_type": "markdown",
   "metadata": {},
   "source": [
    "## Import strava creds\n",
    "Since we're logging into Strava via Facebook, the creds is simpy a python file of the form:\n",
    "* email = Facebook_Email\n",
    "* password = Facebook_Password"
   ]
  },
  {
   "cell_type": "code",
   "execution_count": 17,
   "metadata": {},
   "outputs": [],
   "source": [
    "import creds"
   ]
  },
  {
   "cell_type": "code",
   "execution_count": 18,
   "metadata": {},
   "outputs": [],
   "source": [
    "from selenium_scripts.strava_commands import race_gpx"
   ]
  },
  {
   "cell_type": "code",
   "execution_count": 19,
   "metadata": {},
   "outputs": [
    {
     "name": "stdout",
     "output_type": "stream",
     "text": [
      "Successfully logged in to strava\n",
      "Site not rendered correctly, trying again in 5 seconds\n",
      "Site not rendered correctly, trying again in 5 seconds\n",
      "Site not rendered correctly, trying again in 5 seconds\n",
      "file successfully downloded to /Users/harry.daniels/Documents/medium/airflow_selenium/downloads/TDF_stage_4.gpx\n"
     ]
    }
   ],
   "source": [
    "# Get the activity feed of our Athlete.\n",
    "# Since we're after the Tour de France, we are interested in the month of July.\n",
    "\n",
    "\n",
    "url = 'https://www.strava.com/pros/1855274' + \\\n",
    "        '#interval_type?chart_type=miles&interval_type=month' + \\\n",
    "        '&interval=201907&year_offset=0'\n",
    "\n",
    "race_gpx(driver, creds.email, creds.password, url, '2019-07-09', local_downloads)"
   ]
  },
  {
   "cell_type": "markdown",
   "metadata": {},
   "source": [
    "## Remove docker container"
   ]
  },
  {
   "cell_type": "code",
   "execution_count": 20,
   "metadata": {},
   "outputs": [
    {
     "name": "stdout",
     "output_type": "stream",
     "text": [
      "Removed container: 263c0b7ad9d68333838937726e6ff69b746e65f71782f02aa2ed19e0e322803b\n"
     ]
    }
   ],
   "source": [
    "container.remove(force=True)\n",
    "print('Removed container: {}'.format(container.id))"
   ]
  }
 ],
 "metadata": {
  "hide_input": false,
  "kernelspec": {
   "display_name": "Python 3",
   "language": "python",
   "name": "python3"
  },
  "language_info": {
   "codemirror_mode": {
    "name": "ipython",
    "version": 3
   },
   "file_extension": ".py",
   "mimetype": "text/x-python",
   "name": "python",
   "nbconvert_exporter": "python",
   "pygments_lexer": "ipython3",
   "version": "3.7.4"
  },
  "toc": {
   "base_numbering": 1,
   "nav_menu": {},
   "number_sections": true,
   "sideBar": true,
   "skip_h1_title": false,
   "title_cell": "Table of Contents",
   "title_sidebar": "Contents",
   "toc_cell": false,
   "toc_position": {},
   "toc_section_display": true,
   "toc_window_display": false
  }
 },
 "nbformat": 4,
 "nbformat_minor": 2
}
